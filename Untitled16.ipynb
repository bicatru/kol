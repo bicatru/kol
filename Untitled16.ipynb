{
  "nbformat": 4,
  "nbformat_minor": 0,
  "metadata": {
    "colab": {
      "provenance": [],
      "collapsed_sections": []
    },
    "kernelspec": {
      "name": "python3",
      "display_name": "Python 3"
    },
    "language_info": {
      "name": "python"
    }
  },
  "cells": [
    {
      "cell_type": "code",
      "execution_count": null,
      "metadata": {
        "colab": {
          "base_uri": "https://localhost:8080/"
        },
        "id": "uElWtLVgY-5h",
        "outputId": "c1e9d558-5245-4c57-af3e-8480da56da26"
      },
      "outputs": [
        {
          "output_type": "stream",
          "name": "stdout",
          "text": [
            "35.221.16.53\n"
          ]
        }
      ],
      "source": [
        "from requests import get\n",
        "\n",
        "ip = get('https://api.ipify.org').text\n",
        "print(ip)"
      ]
    },
    {
      "cell_type": "code",
      "source": [
        "35.234.17.49\n",
        "35.197.40.27\n",
        "35.245.251.86\n",
        "34.91.80.106\n",
        "35.196.179.53\n",
        "35.239.202.6\n",
        "34.74.125.246\n",
        "35.204.53.243\n",
        "35.196.186.69"
      ],
      "metadata": {
        "colab": {
          "base_uri": "https://localhost:8080/",
          "height": 131
        },
        "id": "podWBid4ZKcB",
        "outputId": "c6689966-0f15-431c-85e6-11abfa03d570"
      },
      "execution_count": null,
      "outputs": [
        {
          "output_type": "error",
          "ename": "SyntaxError",
          "evalue": "ignored",
          "traceback": [
            "\u001b[0;36m  File \u001b[0;32m\"<ipython-input-2-469ba25e2392>\"\u001b[0;36m, line \u001b[0;32m1\u001b[0m\n\u001b[0;31m    35.234.17.49\u001b[0m\n\u001b[0m            ^\u001b[0m\n\u001b[0;31mSyntaxError\u001b[0m\u001b[0;31m:\u001b[0m invalid syntax\n"
          ]
        }
      ]
    }
  ]
}